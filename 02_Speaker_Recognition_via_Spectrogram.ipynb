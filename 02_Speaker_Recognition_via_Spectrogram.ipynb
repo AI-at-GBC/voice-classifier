{
  "nbformat": 4,
  "nbformat_minor": 0,
  "metadata": {
    "colab": {
      "name": "02 - Speaker Recognition via Spectrogram.ipynb",
      "provenance": [],
      "collapsed_sections": [],
      "machine_shape": "hm"
    },
    "kernelspec": {
      "name": "python3",
      "display_name": "Python 3"
    },
    "language_info": {
      "name": "python"
    },
    "accelerator": "GPU"
  },
  "cells": [
    {
      "cell_type": "markdown",
      "metadata": {
        "id": "kBV3Seozo6iS"
      },
      "source": [
        "# Speaker Recognition via Spectrogram Analysis"
      ]
    },
    {
      "cell_type": "markdown",
      "metadata": {
        "id": "ZCcqITOIo_WP"
      },
      "source": [
        "# Import libraries"
      ]
    },
    {
      "cell_type": "code",
      "metadata": {
        "colab": {
          "base_uri": "https://localhost:8080/"
        },
        "id": "MWoap6KRPRxd",
        "outputId": "478907d1-8009-4dbe-bfa3-3eb8e843e31f"
      },
      "source": [
        "from google.colab import drive\n",
        "drive.mount('/content/drive')"
      ],
      "execution_count": null,
      "outputs": [
        {
          "output_type": "stream",
          "name": "stdout",
          "text": [
            "Drive already mounted at /content/drive; to attempt to forcibly remount, call drive.mount(\"/content/drive\", force_remount=True).\n"
          ]
        }
      ]
    },
    {
      "cell_type": "code",
      "metadata": {
        "colab": {
          "base_uri": "https://localhost:8080/"
        },
        "id": "2SnBXbYChh9V",
        "outputId": "46dc74f6-8714-4b9e-c5f9-6d155a5afe17"
      },
      "source": [
        "!pip install ffmpeg"
      ],
      "execution_count": null,
      "outputs": [
        {
          "output_type": "stream",
          "name": "stdout",
          "text": [
            "Requirement already satisfied: ffmpeg in /usr/local/lib/python3.7/dist-packages (1.4)\n"
          ]
        }
      ]
    },
    {
      "cell_type": "code",
      "metadata": {
        "id": "MO7d7b7Dj0be",
        "colab": {
          "base_uri": "https://localhost:8080/",
          "height": 36
        },
        "outputId": "94c11cda-d927-4617-b591-dba619a2724b"
      },
      "source": [
        "import numpy as np\n",
        "import matplotlib.pyplot as plt\n",
        "import pandas as pd\n",
        "\n",
        "import fastai\n",
        "from fastai.vision import *\n",
        "fastai.__version__"
      ],
      "execution_count": null,
      "outputs": [
        {
          "output_type": "execute_result",
          "data": {
            "application/vnd.google.colaboratory.intrinsic+json": {
              "type": "string"
            },
            "text/plain": [
              "'1.0.61'"
            ]
          },
          "metadata": {},
          "execution_count": 3
        }
      ]
    },
    {
      "cell_type": "code",
      "metadata": {
        "id": "CggkwRn1PbCY"
      },
      "source": [
        "import os\n",
        "DATASET_ROOT = '/content/drive/MyDrive/Colab Notebooks/GBCLessons/Math 2/classifier/Data'\n",
        "\n",
        "SPECTROGRAM_SUBFOLDER = 'spectrograms'\n",
        "\n",
        "SPECTROGRAM_PATH = os.path.join(DATASET_ROOT, SPECTROGRAM_SUBFOLDER)\n",
        "TRAIN_PATH = os.path.join(SPECTROGRAM_PATH, 'train')\n",
        "VALID_PATH = os.path.join(SPECTROGRAM_PATH, 'valid')"
      ],
      "execution_count": null,
      "outputs": []
    },
    {
      "cell_type": "code",
      "metadata": {
        "id": "Ttj3Xv-BCuAG"
      },
      "source": [
        "data = (ImageList.from_folder(SPECTROGRAM_PATH)\n",
        "    .split_by_folder()\n",
        "    .label_from_re(r'(\\w+)_\\w+.png$')\n",
        "    .databunch())"
      ],
      "execution_count": null,
      "outputs": []
    },
    {
      "cell_type": "code",
      "metadata": {
        "colab": {
          "base_uri": "https://localhost:8080/"
        },
        "id": "8ERrGppFHkwT",
        "outputId": "433dd615-50c2-427b-9120-46668f15d300"
      },
      "source": [
        "data.c, data.classes"
      ],
      "execution_count": null,
      "outputs": [
        {
          "output_type": "execute_result",
          "data": {
            "text/plain": [
              "(5, ['Dan', 'Ed', 'Hom', 'Juan', 'Mike'])"
            ]
          },
          "metadata": {},
          "execution_count": 6
        }
      ]
    },
    {
      "cell_type": "code",
      "metadata": {
        "colab": {
          "base_uri": "https://localhost:8080/"
        },
        "id": "GYZLJb6hIKwq",
        "outputId": "a46758f9-3ad0-48c5-9276-8aace53cc525"
      },
      "source": [
        "xs, ys = data.one_batch()\n",
        "xs.shape, ys.shape"
      ],
      "execution_count": null,
      "outputs": [
        {
          "output_type": "execute_result",
          "data": {
            "text/plain": [
              "(torch.Size([64, 3, 128, 44]), torch.Size([64]))"
            ]
          },
          "metadata": {},
          "execution_count": 7
        }
      ]
    },
    {
      "cell_type": "code",
      "metadata": {
        "colab": {
          "base_uri": "https://localhost:8080/"
        },
        "id": "USva8LSJIQVz",
        "outputId": "958a53e0-bfc1-4f26-da69-0551d8dae472"
      },
      "source": [
        "xs.min(), xs.max(), xs.mean(), xs.std()"
      ],
      "execution_count": null,
      "outputs": [
        {
          "output_type": "execute_result",
          "data": {
            "text/plain": [
              "(tensor(0.0039), tensor(0.9922), tensor(0.3581), tensor(0.1930))"
            ]
          },
          "metadata": {},
          "execution_count": 8
        }
      ]
    },
    {
      "cell_type": "code",
      "metadata": {
        "colab": {
          "base_uri": "https://localhost:8080/",
          "height": 297
        },
        "id": "S128M8HMIQR8",
        "outputId": "45ad1367-9328-473a-df6e-2c2779d18d15"
      },
      "source": [
        "data.show_batch(3, figsize=(8,4), hide_axis=False)"
      ],
      "execution_count": null,
      "outputs": [
        {
          "output_type": "display_data",
          "data": {
            "image/png": "[encoded data removed]",
            "text/plain": [
              "<Figure size 576x288 with 9 Axes>"
            ]
          },
          "metadata": {
            "needs_background": "light"
          }
        }
      ]
    },
    {
      "cell_type": "code",
      "metadata": {
        "colab": {
          "base_uri": "https://localhost:8080/",
          "height": 143
        },
        "id": "DkCcHKWEIVNL",
        "outputId": "173ec322-bbdd-4e67-dddf-e1004197f39f"
      },
      "source": [
        "learn = cnn_learner(data, models.resnet18, metrics=accuracy)\n",
        "learn.fit_one_cycle(3)"
      ],
      "execution_count": null,
      "outputs": [
        {
          "output_type": "display_data",
          "data": {
            "text/html": [
              "<table border=\"1\" class=\"dataframe\">\n",
              "  <thead>\n",
              "    <tr style=\"text-align: left;\">\n",
              "      <th>epoch</th>\n",
              "      <th>train_loss</th>\n",
              "      <th>valid_loss</th>\n",
              "      <th>accuracy</th>\n",
              "      <th>time</th>\n",
              "    </tr>\n",
              "  </thead>\n",
              "  <tbody>\n",
              "    <tr>\n",
              "      <td>0</td>\n",
              "      <td>1.623702</td>\n",
              "      <td>1.589115</td>\n",
              "      <td>0.501176</td>\n",
              "      <td>00:03</td>\n",
              "    </tr>\n",
              "    <tr>\n",
              "      <td>1</td>\n",
              "      <td>0.979657</td>\n",
              "      <td>0.647893</td>\n",
              "      <td>0.767059</td>\n",
              "      <td>00:03</td>\n",
              "    </tr>\n",
              "    <tr>\n",
              "      <td>2</td>\n",
              "      <td>0.656712</td>\n",
              "      <td>0.522453</td>\n",
              "      <td>0.837647</td>\n",
              "      <td>00:03</td>\n",
              "    </tr>\n",
              "  </tbody>\n",
              "</table>"
            ],
            "text/plain": [
              "<IPython.core.display.HTML object>"
            ]
          },
          "metadata": {}
        }
      ]
    },
    {
      "cell_type": "code",
      "metadata": {
        "colab": {
          "base_uri": "https://localhost:8080/",
          "height": 17
        },
        "id": "kpP-H9DjIY7T",
        "outputId": "dee24270-bd55-4265-9bf2-2061ff22660c"
      },
      "source": [
        "interp = ClassificationInterpretation.from_learner(learn)"
      ],
      "execution_count": null,
      "outputs": [
        {
          "output_type": "display_data",
          "data": {
            "text/html": [
              ""
            ],
            "text/plain": [
              "<IPython.core.display.HTML object>"
            ]
          },
          "metadata": {}
        }
      ]
    },
    {
      "cell_type": "code",
      "metadata": {
        "colab": {
          "base_uri": "https://localhost:8080/",
          "height": 623
        },
        "id": "6f5uiVmsIamm",
        "outputId": "ba97fc96-7e91-4868-b98d-f524415bd61c"
      },
      "source": [
        "interp.plot_confusion_matrix(figsize=(10, 10), dpi=60)"
      ],
      "execution_count": null,
      "outputs": [
        {
          "output_type": "display_data",
          "data": {
            "image/png": "[encoded data removed]",
            "text/plain": [
              "<Figure size 600x600 with 1 Axes>"
            ]
          },
          "metadata": {
            "needs_background": "light"
          }
        }
      ]
    },
    {
      "cell_type": "code",
      "metadata": {
        "colab": {
          "base_uri": "https://localhost:8080/"
        },
        "id": "poLdC3_SIfLv",
        "outputId": "aa64aaa3-4ebd-4826-e071-5f2cbab6a5b9"
      },
      "source": [
        "interp.most_confused(min_val=1)"
      ],
      "execution_count": null,
      "outputs": [
        {
          "output_type": "execute_result",
          "data": {
            "text/plain": [
              "[('Juan', 'Dan', 10),\n",
              " ('Dan', 'Mike', 7),\n",
              " ('Mike', 'Dan', 6),\n",
              " ('Dan', 'Hom', 5),\n",
              " ('Hom', 'Ed', 5),\n",
              " ('Juan', 'Mike', 5),\n",
              " ('Dan', 'Juan', 4),\n",
              " ('Ed', 'Hom', 4),\n",
              " ('Hom', 'Mike', 4),\n",
              " ('Juan', 'Hom', 4),\n",
              " ('Ed', 'Juan', 3),\n",
              " ('Hom', 'Dan', 3),\n",
              " ('Ed', 'Dan', 2),\n",
              " ('Juan', 'Ed', 2),\n",
              " ('Mike', 'Juan', 2),\n",
              " ('Ed', 'Mike', 1),\n",
              " ('Hom', 'Juan', 1),\n",
              " ('Mike', 'Hom', 1)]"
            ]
          },
          "metadata": {},
          "execution_count": 13
        }
      ]
    },
    {
      "cell_type": "code",
      "metadata": {
        "id": "JHGP2rpfaAmZ"
      },
      "source": [
        "learn.export(file = Path(\"/content/drive/MyDrive/Colab Notebooks/GBCLessons/Math 2/classifier/export.pkl\"))"
      ],
      "execution_count": null,
      "outputs": []
    }
  ]
}