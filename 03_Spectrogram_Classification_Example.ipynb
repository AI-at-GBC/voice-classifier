{
  "nbformat": 4,
  "nbformat_minor": 0,
  "metadata": {
    "colab": {
      "name": "03 - Spectrogram Classification Example.ipynb",
      "provenance": [],
      "collapsed_sections": [],
      "machine_shape": "hm"
    },
    "kernelspec": {
      "name": "python3",
      "display_name": "Python 3"
    },
    "language_info": {
      "name": "python"
    },
    "accelerator": "GPU"
  },
  "cells": [
    {
      "cell_type": "code",
      "metadata": {
        "colab": {
          "base_uri": "https://localhost:8080/"
        },
        "id": "yq_t4O4bmuck",
        "outputId": "505267b0-7901-415b-cb1c-d42f35a15596"
      },
      "source": [
        "from google.colab import drive\n",
        "drive.mount('/content/drive')"
      ],
      "execution_count": null,
      "outputs": [
        {
          "output_type": "stream",
          "name": "stdout",
          "text": [
            "Mounted at /content/drive\n"
          ]
        }
      ]
    },
    {
      "cell_type": "code",
      "metadata": {
        "colab": {
          "base_uri": "https://localhost:8080/"
        },
        "id": "ShE75ubmm7QO",
        "outputId": "2e9129e1-42a6-4beb-bbda-d19f423fcdf2"
      },
      "source": [
        "!pip install ffmpeg"
      ],
      "execution_count": null,
      "outputs": [
        {
          "output_type": "stream",
          "name": "stdout",
          "text": [
            "Collecting ffmpeg\n",
            "  Downloading ffmpeg-1.4.tar.gz (5.1 kB)\n",
            "Building wheels for collected packages: ffmpeg\n",
            "  Building wheel for ffmpeg (setup.py) ... \u001b[?25l\u001b[?25hdone\n",
            "  Created wheel for ffmpeg: filename=ffmpeg-1.4-py3-none-any.whl size=6083 sha256=2f230bf6e906ef1d9ab92230fd7737dcbbf0aa81e375a4221221183518f914d1\n",
            "  Stored in directory: /root/.cache/pip/wheels/64/80/6e/caa3e16deb0267c3cbfd36862058a724144e19fdb9eb03af0f\n",
            "Successfully built ffmpeg\n",
            "Installing collected packages: ffmpeg\n",
            "Successfully installed ffmpeg-1.4\n"
          ]
        }
      ]
    },
    {
      "cell_type": "code",
      "metadata": {
        "colab": {
          "base_uri": "https://localhost:8080/",
          "height": 36
        },
        "id": "9rtV6wwbm7Lh",
        "outputId": "8e3d1a70-f4da-4322-8cad-020b29f8017d"
      },
      "source": [
        "import numpy as np\n",
        "import matplotlib.pyplot as plt\n",
        "import pandas as pd\n",
        "\n",
        "import fastai\n",
        "from fastai.vision import *\n",
        "fastai.__version__"
      ],
      "execution_count": null,
      "outputs": [
        {
          "output_type": "execute_result",
          "data": {
            "application/vnd.google.colaboratory.intrinsic+json": {
              "type": "string"
            },
            "text/plain": [
              "'1.0.61'"
            ]
          },
          "metadata": {},
          "execution_count": 3
        }
      ]
    },
    {
      "cell_type": "code",
      "metadata": {
        "id": "8h80QsP1nHFn"
      },
      "source": [
        "learn = load_learner('/content/drive/MyDrive/Colab Notebooks/GBCLessons/Math 2/classifier/')"
      ],
      "execution_count": null,
      "outputs": []
    },
    {
      "cell_type": "code",
      "metadata": {
        "colab": {
          "base_uri": "https://localhost:8080/",
          "height": 145
        },
        "id": "GTXX-MPMoYw_",
        "outputId": "cee4bfa8-91df-4f90-8133-62d187dc3439"
      },
      "source": [
        "f = '/content/drive/MyDrive/Colab Notebooks/GBCLessons/Math 2/classifier/Data/spectrograms/train/Mike_chunk402.png'\n",
        "img = Image.open(f)\n",
        "img"
      ],
      "execution_count": null,
      "outputs": [
        {
          "output_type": "execute_result",
          "data": {
            "image/png": "[encoded data removed]",
            "text/plain": [
              "<PIL.PngImagePlugin.PngImageFile image mode=RGBA size=44x128 at 0x7F6FA4FAC650>"
            ]
          },
          "metadata": {},
          "execution_count": 36
        }
      ]
    },
    {
      "cell_type": "code",
      "metadata": {
        "id": "AF_z9Zq82RyR"
      },
      "source": [
        "dan_sample = '/content/drive/MyDrive/Colab Notebooks/GBCLessons/Math 2/classifier/Data/spectrograms/valid/Dan_chunk133.png'\n",
        "ed_sample = '/content/drive/MyDrive/Colab Notebooks/GBCLessons/Math 2/classifier/Data/spectrograms/valid/Ed_chunk429.png'\n",
        "hom_sample = '/content/drive/MyDrive/Colab Notebooks/GBCLessons/Math 2/classifier/Data/spectrograms/valid/Hom_chunk346.png'\n",
        "juan_sample = '/content/drive/MyDrive/Colab Notebooks/GBCLessons/Math 2/classifier/Data/spectrograms/valid/Juan_chunk240.png'\n",
        "mike_sample = '/content/drive/MyDrive/Colab Notebooks/GBCLessons/Math 2/classifier/Data/spectrograms/valid/Mike_chunk197.png'"
      ],
      "execution_count": null,
      "outputs": []
    },
    {
      "cell_type": "code",
      "metadata": {
        "colab": {
          "base_uri": "https://localhost:8080/"
        },
        "id": "xbrQYZGF5cxf",
        "outputId": "c664e3ee-6fe8-4b4d-fff6-5ab0383e3880"
      },
      "source": [
        "img = open_image(dan_sample)\n",
        "speaker_name,_,prob = learn.predict(img)\n",
        "speaker_name"
      ],
      "execution_count": null,
      "outputs": [
        {
          "output_type": "execute_result",
          "data": {
            "text/plain": [
              "Category tensor(0)"
            ]
          },
          "metadata": {},
          "execution_count": 103
        }
      ]
    },
    {
      "cell_type": "code",
      "metadata": {
        "colab": {
          "base_uri": "https://localhost:8080/"
        },
        "id": "AzEBYGf25h2W",
        "outputId": "321b453e-a7f0-484b-afb6-4624e73bb377"
      },
      "source": [
        "img = open_image(ed_sample)\n",
        "speaker_name,_,prob = learn.predict(img)\n",
        "speaker_name"
      ],
      "execution_count": null,
      "outputs": [
        {
          "output_type": "execute_result",
          "data": {
            "text/plain": [
              "Category tensor(1)"
            ]
          },
          "metadata": {},
          "execution_count": 104
        }
      ]
    },
    {
      "cell_type": "code",
      "metadata": {
        "colab": {
          "base_uri": "https://localhost:8080/"
        },
        "id": "Ym3stb9T5iR8",
        "outputId": "cad91ff6-2e69-4bde-a428-2b1458af68e0"
      },
      "source": [
        "img = open_image(hom_sample)\n",
        "speaker_name,_,prob = learn.predict(img)\n",
        "speaker_name"
      ],
      "execution_count": null,
      "outputs": [
        {
          "output_type": "execute_result",
          "data": {
            "text/plain": [
              "Category tensor(2)"
            ]
          },
          "metadata": {},
          "execution_count": 105
        }
      ]
    },
    {
      "cell_type": "code",
      "metadata": {
        "colab": {
          "base_uri": "https://localhost:8080/"
        },
        "id": "Lewocj4K5imf",
        "outputId": "28da9c43-faf8-4591-e67d-71f00007cdfb"
      },
      "source": [
        "img = open_image(juan_sample)\n",
        "speaker_name,_,prob = learn.predict(img)\n",
        "speaker_name"
      ],
      "execution_count": null,
      "outputs": [
        {
          "output_type": "execute_result",
          "data": {
            "text/plain": [
              "Category tensor(3)"
            ]
          },
          "metadata": {},
          "execution_count": 106
        }
      ]
    },
    {
      "cell_type": "code",
      "metadata": {
        "colab": {
          "base_uri": "https://localhost:8080/"
        },
        "id": "Hp06N45g5i-N",
        "outputId": "7362e916-f843-4278-fdfc-89d710270437"
      },
      "source": [
        "img = open_image(mike_sample)\n",
        "speaker_name,_,prob = learn.predict(img)\n",
        "speaker_name"
      ],
      "execution_count": null,
      "outputs": [
        {
          "output_type": "execute_result",
          "data": {
            "text/plain": [
              "Category tensor(4)"
            ]
          },
          "metadata": {},
          "execution_count": 110
        }
      ]
    }
  ]
}