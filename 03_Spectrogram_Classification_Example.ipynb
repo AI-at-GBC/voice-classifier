{
  "nbformat": 4,
  "nbformat_minor": 0,
  "metadata": {
    "colab": {
      "name": "03 - Spectrogram Classification Example.ipynb",
      "provenance": [],
      "collapsed_sections": [],
      "machine_shape": "hm"
    },
    "kernelspec": {
      "name": "python3",
      "display_name": "Python 3"
    },
    "language_info": {
      "name": "python"
    },
    "accelerator": "GPU"
  },
  "cells": [
    {
      "cell_type": "code",
      "metadata": {
        "colab": {
          "base_uri": "https://localhost:8080/"
        },
        "id": "yq_t4O4bmuck",
        "outputId": "c9a23464-4f84-42fa-a304-e50050cb7ff0"
      },
      "source": [
        "from google.colab import drive\n",
        "drive.mount('/content/drive')"
      ],
      "execution_count": 1,
      "outputs": [
        {
          "output_type": "stream",
          "name": "stdout",
          "text": [
            "Mounted at /content/drive\n"
          ]
        }
      ]
    },
    {
      "cell_type": "code",
      "metadata": {
        "colab": {
          "base_uri": "https://localhost:8080/"
        },
        "id": "ShE75ubmm7QO",
        "outputId": "940a75e5-96a1-4b60-86e7-b45841f8bf55"
      },
      "source": [
        "!pip install ffmpeg"
      ],
      "execution_count": 2,
      "outputs": [
        {
          "output_type": "stream",
          "name": "stdout",
          "text": [
            "Collecting ffmpeg\n",
            "  Downloading ffmpeg-1.4.tar.gz (5.1 kB)\n",
            "Building wheels for collected packages: ffmpeg\n",
            "  Building wheel for ffmpeg (setup.py) ... \u001b[?25l\u001b[?25hdone\n",
            "  Created wheel for ffmpeg: filename=ffmpeg-1.4-py3-none-any.whl size=6083 sha256=90d204d6e64ac49fdedbaf8ea91de351a600c7c38070216023216c5f91ffac80\n",
            "  Stored in directory: /root/.cache/pip/wheels/64/80/6e/caa3e16deb0267c3cbfd36862058a724144e19fdb9eb03af0f\n",
            "Successfully built ffmpeg\n",
            "Installing collected packages: ffmpeg\n",
            "Successfully installed ffmpeg-1.4\n"
          ]
        }
      ]
    },
    {
      "cell_type": "code",
      "metadata": {
        "colab": {
          "base_uri": "https://localhost:8080/"
        },
        "id": "oAsJjvTnuunM",
        "outputId": "4263b87c-206e-4624-fb6b-5a21b5dd1640"
      },
      "source": [
        "!pip install pydub"
      ],
      "execution_count": 3,
      "outputs": [
        {
          "output_type": "stream",
          "name": "stdout",
          "text": [
            "Collecting pydub\n",
            "  Downloading pydub-0.25.1-py2.py3-none-any.whl (32 kB)\n",
            "Installing collected packages: pydub\n",
            "Successfully installed pydub-0.25.1\n"
          ]
        }
      ]
    },
    {
      "cell_type": "code",
      "metadata": {
        "colab": {
          "base_uri": "https://localhost:8080/",
          "height": 36
        },
        "id": "9rtV6wwbm7Lh",
        "outputId": "cc93d6dd-08ac-42ec-8ab1-10afcea485c3"
      },
      "source": [
        "import numpy as np\n",
        "import matplotlib.pyplot as plt\n",
        "import pandas as pd\n",
        "\n",
        "import librosa\n",
        "import librosa.display\n",
        "\n",
        "from pydub import AudioSegment\n",
        "from pydub.utils import make_chunks\n",
        "\n",
        "import fastai\n",
        "from fastai.vision import *\n",
        "fastai.__version__"
      ],
      "execution_count": 4,
      "outputs": [
        {
          "output_type": "execute_result",
          "data": {
            "application/vnd.google.colaboratory.intrinsic+json": {
              "type": "string"
            },
            "text/plain": [
              "'1.0.61'"
            ]
          },
          "metadata": {},
          "execution_count": 4
        }
      ]
    },
    {
      "cell_type": "code",
      "metadata": {
        "id": "8h80QsP1nHFn"
      },
      "source": [
        "learn = load_learner('/content/drive/MyDrive/Colab Notebooks/GBCLessons/Math 2/classifier/')"
      ],
      "execution_count": 6,
      "outputs": []
    },
    {
      "cell_type": "code",
      "metadata": {
        "id": "dZkyxB5VQSZ0"
      },
      "source": [
        "file_path = '/content/drive/MyDrive/Colab Notebooks/GBCLessons/Math 2/classifier/Data/test_data/'"
      ],
      "execution_count": 5,
      "outputs": []
    },
    {
      "cell_type": "code",
      "metadata": {
        "id": "u7RnAst4sRHM"
      },
      "source": [
        "import math\n",
        "\n",
        "def classify_speaker(audio_path):\n",
        "  samples, sample_rate = librosa.load(audio_path)\n",
        "\n",
        "  # Create spectrograms to analyze\n",
        "  make_spectrograms(samples, sample_rate)\n",
        "\n",
        "  # Read and tally predictions\n",
        "  prediction = predict_speaker()\n",
        "\n",
        "  # Clean up data\n",
        "  clean_up_spectrograms(samples, sample_rate)\n",
        "\n",
        "  print(f'\\r\\nI think that the speaker is {prediction}.')\n",
        "  \n",
        "def make_spectrograms(samples, sample_rate):\n",
        "  chunk_count = math.floor(len(samples) / sample_rate)\n",
        "\n",
        "  for i in range(chunk_count):\n",
        "    start_timestamp = i * sample_rate\n",
        "    end_timestamp = (i+1) * sample_rate\n",
        "\n",
        "    chunk = samples[start_timestamp:end_timestamp]\n",
        "\n",
        "    mel_spec_power = librosa.feature.melspectrogram(chunk, sr=sample_rate, power=2.0) \n",
        "    mel_spec_db = librosa.power_to_db(mel_spec_power, ref=np.max)\n",
        "\n",
        "    filename = (f'spec_{i}.png')\n",
        "    plt.imsave(filename, mel_spec_db)\n",
        "\n",
        "def predict_speaker():\n",
        "  speaker = ''\n",
        "  predictions = {}\n",
        "  count = 1\n",
        "\n",
        "  for filename in os.listdir('.'):\n",
        "    if filename[-4:] == '.png':\n",
        "      img = open_image('/content/' + filename)\n",
        "      speaker_name,_,prob = learn.predict(img)\n",
        "      p = float(torch.max(prob) * 100)\n",
        "      using_sample_char = '✘'\n",
        "\n",
        "      # Only consider value if confidence is above 70%\n",
        "      if p > 70:\n",
        "        using_sample_char = '✔'\n",
        "\n",
        "        if str(speaker_name) not in predictions:\n",
        "          predictions[str(speaker_name)] = round(p,2)\n",
        "        else:\n",
        "          predictions[str(speaker_name)] += round(p,2)\n",
        "\n",
        "      print(f'Sample {count} = {speaker_name} ({round(p,2)}% probability) {using_sample_char}')\n",
        "      count += 1\n",
        "\n",
        "  maxval = max(predictions.values())\n",
        "  res = [(k, v) for k, v in predictions.items() if v == maxval]\n",
        "  return res[0][0]\n",
        "\n",
        "def clean_up_spectrograms(samples, sample_rate):\n",
        "  chunk_count = math.floor(len(samples) / sample_rate)\n",
        "  for i in range(chunk_count):\n",
        "    filename = (f'spec_{i}.png')\n",
        "    os.remove(filename) "
      ],
      "execution_count": 14,
      "outputs": []
    },
    {
      "cell_type": "code",
      "metadata": {
        "colab": {
          "base_uri": "https://localhost:8080/"
        },
        "id": "2jiEj_cWSa0n",
        "outputId": "688ea641-a3a1-4cc9-d032-f91b00099dce"
      },
      "source": [
        "classify_speaker(file_path + 'dan_sample.wav')"
      ],
      "execution_count": 16,
      "outputs": [
        {
          "output_type": "stream",
          "name": "stdout",
          "text": [
            "Sample 1 = Juan (68.9% probability) ✘\n",
            "Sample 2 = Dan (97.52% probability) ✔\n",
            "Sample 3 = Juan (97.95% probability) ✔\n",
            "Sample 4 = Mike (91.65% probability) ✔\n",
            "\r\n",
            "I think that the speaker is Juan.\n"
          ]
        }
      ]
    },
    {
      "cell_type": "code",
      "metadata": {
        "colab": {
          "base_uri": "https://localhost:8080/"
        },
        "id": "bfdBlW3gEAEv",
        "outputId": "28aa2bfa-cb1f-4757-c137-d2ebbca3beef"
      },
      "source": [
        "classify_speaker(file_path + 'Hom_test.wav')"
      ],
      "execution_count": 15,
      "outputs": [
        {
          "output_type": "stream",
          "name": "stdout",
          "text": [
            "Sample 1 = Hom (70.27% probability) ✔\n",
            "Sample 2 = Ed (72.65% probability) ✔\n",
            "Sample 3 = Hom (99.42% probability) ✔\n",
            "Sample 4 = Hom (98.73% probability) ✔\n",
            "Sample 5 = Ed (81.7% probability) ✔\n",
            "Sample 6 = Hom (99.08% probability) ✔\n",
            "\r\n",
            "I think that the speaker is Hom.\n"
          ]
        }
      ]
    },
    {
      "cell_type": "code",
      "metadata": {
        "colab": {
          "base_uri": "https://localhost:8080/"
        },
        "id": "G4pL6ViIEM28",
        "outputId": "5a12c7de-8de4-4bd6-e068-6ed245ba0c13"
      },
      "source": [
        "classify_speaker(file_path + 'eduardo_test.wav')"
      ],
      "execution_count": 17,
      "outputs": [
        {
          "output_type": "stream",
          "name": "stdout",
          "text": [
            "Sample 1 = Hom (84.36% probability) ✔\n",
            "Sample 2 = Ed (83.01% probability) ✔\n",
            "Sample 3 = Ed (70.82% probability) ✔\n",
            "Sample 4 = Ed (99.92% probability) ✔\n",
            "Sample 5 = Hom (99.72% probability) ✔\n",
            "\r\n",
            "I think that the speaker is Ed.\n"
          ]
        }
      ]
    },
    {
      "cell_type": "code",
      "metadata": {
        "colab": {
          "base_uri": "https://localhost:8080/"
        },
        "id": "LytprO6VEP5e",
        "outputId": "292c9bdf-d16d-4fd1-baa3-5e5321d924c2"
      },
      "source": [
        "classify_speaker(file_path + 'Juan_test.wav')"
      ],
      "execution_count": 18,
      "outputs": [
        {
          "output_type": "stream",
          "name": "stdout",
          "text": [
            "Sample 1 = Juan (54.21% probability) ✘\n",
            "Sample 2 = Dan (94.81% probability) ✔\n",
            "Sample 3 = Juan (77.45% probability) ✔\n",
            "Sample 4 = Juan (96.71% probability) ✔\n",
            "\r\n",
            "I think that the speaker is Juan.\n"
          ]
        }
      ]
    },
    {
      "cell_type": "code",
      "metadata": {
        "colab": {
          "base_uri": "https://localhost:8080/"
        },
        "id": "DenK2BVJEUnC",
        "outputId": "c1bdba87-abb0-40e8-c21b-e4d4ee2a897d"
      },
      "source": [
        "classify_speaker(file_path + 'Mike.wav')"
      ],
      "execution_count": 19,
      "outputs": [
        {
          "output_type": "stream",
          "name": "stdout",
          "text": [
            "Sample 1 = Juan (96.77% probability) ✔\n",
            "Sample 2 = Dan (94.49% probability) ✔\n",
            "Sample 3 = Ed (69.54% probability) ✘\n",
            "\r\n",
            "I think that the speaker is Juan.\n"
          ]
        }
      ]
    }
  ]
}